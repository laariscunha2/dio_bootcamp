{
  "nbformat": 4,
  "nbformat_minor": 0,
  "metadata": {
    "colab": {
      "provenance": []
    },
    "kernelspec": {
      "name": "python3",
      "display_name": "Python 3"
    },
    "language_info": {
      "name": "python"
    }
  },
  "cells": [
    {
      "cell_type": "markdown",
      "source": [
        "##Desafio de Projeto:\n",
        "Criando um sistema bancario"
      ],
      "metadata": {
        "id": "_3aXHZSUgFm3"
      }
    },
    {
      "cell_type": "markdown",
      "source": [
        "##Criacao do Menu:"
      ],
      "metadata": {
        "id": "lfJk59AyLS62"
      }
    },
    {
      "cell_type": "code",
      "source": [
        "def menu():\n",
        "    menu = '''\n",
        "  ==========MENU=========\n",
        "  [1]\\tDepositar\n",
        "  [2]\\tSacar\n",
        "  [3]\\tExtrato\n",
        "  [4]\\tNova Conta\n",
        "  [5]\\tListar Contas\n",
        "  [6]\\tNovo Usuario\n",
        "  [999]\\tSair\n",
        "  ======================\n",
        "  \\033[1;97mDigite a opcao desejada: \\033[m'''\n",
        "    return int(input(menu))"
      ],
      "metadata": {
        "id": "EJKMPkMpLQm_"
      },
      "execution_count": 3,
      "outputs": []
    },
    {
      "cell_type": "markdown",
      "source": [
        "## Funcao da Primeira opcao do Menu do Sistema Bancario"
      ],
      "metadata": {
        "id": "ifZqFiSSLYbO"
      }
    },
    {
      "cell_type": "code",
      "source": [
        "#OPCAO 1\n",
        "def depositar(saldo, valor, extrato, /):\n",
        "    if valor > 0:\n",
        "        saldo += valor\n",
        "        extrato += f\"Deposito: \\tR$ {valor:.2f}\\n\"\n",
        "        print(\"\\n\\033[1;30;42m====DEPOSITO REALIZADO COM SUCESSO====\\033[m\\n\")\n",
        "    else:\n",
        "        print(\"\\n\\033[1;41mErro!\\033[m Operacao invalida.\")\n",
        "\n",
        "    return saldo, extrato"
      ],
      "metadata": {
        "id": "cVhQP4A0LYnY"
      },
      "execution_count": 4,
      "outputs": []
    },
    {
      "cell_type": "markdown",
      "source": [
        "##Funcao da Segunda opcao do Menu do Sistema Bancario"
      ],
      "metadata": {
        "id": "umH1qC0ALoj5"
      }
    },
    {
      "cell_type": "code",
      "source": [
        "#OPCAO 2\n",
        "def sacar(*,saldo, valor, extrato, limite, numero_saques, limite_saques):\n",
        "    #condicoes\n",
        "    excedeu_saldo = valor > saldo\n",
        "    excedeu_limite = valor > limite\n",
        "    excedeu_saques = numero_saques > limite_saques\n",
        "\n",
        "    if excedeu_saques:\n",
        "        print(\"\\n\\033[1;41mErro!\\033[m Numero de saques diarios excedido.\")\n",
        "\n",
        "    elif excedeu_limite:\n",
        "        print(\"\\n\\033[1;41mErro!\\033[m Excedeu o limite\")\n",
        "\n",
        "    elif excedeu_saldo:\n",
        "        print(\"\\n\\033[1;41mErro!\\033[m Nao ha saldo suficiente para essa transacao.\")\n",
        "\n",
        "    elif valor > 0:\n",
        "        saldo -= valor\n",
        "        extrato += f\"Saque: \\t\\tR$ {valor:.2f}\\n\"\n",
        "        print(\"\\n\\033[1;30;42m====SAQUE REALIZADO COM SUCESSO====\\033[m\\n\")\n",
        "\n",
        "    else:\n",
        "        print(\"\\n\\033[1;41mErro!\\033[m Operacao invalida.\")\n",
        "\n",
        "    return saldo, extrato"
      ],
      "metadata": {
        "id": "b0JQaYu4LjEP"
      },
      "execution_count": 5,
      "outputs": []
    },
    {
      "cell_type": "markdown",
      "source": [
        "## Funcao da Terceira opcao do Menu do Sistema Bancario"
      ],
      "metadata": {
        "id": "l1twFH0LL5zm"
      }
    },
    {
      "cell_type": "code",
      "source": [
        "#OPCAO 3\n",
        "def exibir_extrato(saldo, / , *, extrato):\n",
        "    print('\\033[1;30;46m=================EXTRATO=================\\033[m')\n",
        "    print('Nao foram realizadas movimentacoes' if not extrato else extrato)\n",
        "    print(f'\\nSaldo: R${saldo:.2f}')\n",
        "    print(\"\\033[1;30;46m=========================================\\033[m\")"
      ],
      "metadata": {
        "id": "HR8_69lYLsfH"
      },
      "execution_count": 6,
      "outputs": []
    },
    {
      "cell_type": "markdown",
      "source": [
        "## Funcao da Quarta opcao do Menu do Sistema Bancario"
      ],
      "metadata": {
        "id": "fuE42FfOMOl4"
      }
    },
    {
      "cell_type": "code",
      "source": [
        "#OPCAO 4\n",
        "def criar_conta(agencia, numero_conta, usuarios):\n",
        "    cpf = str(input(\"Informe o CPF do usuario: \"))\n",
        "    usuario = filtrar_usuario(cpf, usuarios)\n",
        "\n",
        "    if usuario:\n",
        "        print(\"\\n\\033[1;30;42m====CONTA CRIADA COM SUCESSO====\\033[m\\n\")\n",
        "        return {\"agencia\": agencia, \"numero_conta\": numero_conta, \"usuario\": usuario}\n",
        "\n",
        "    print(\"\\n\\033[1;41mErro!\\033[m CPF nao encontrado, modulo criacao de contas encerrado.\")"
      ],
      "metadata": {
        "id": "8s_cp9riMNT4"
      },
      "execution_count": 2,
      "outputs": []
    },
    {
      "cell_type": "markdown",
      "source": [
        "## Funcao da Quinta opcao do Menu do Sistema Bancario"
      ],
      "metadata": {
        "id": "Fab9G-nIMaC3"
      }
    },
    {
      "cell_type": "code",
      "source": [
        "#OPCAO 5\n",
        "def listar_contas(contas):\n",
        "    for conta in contas:\n",
        "        linha = f\"\"\"\n",
        "            Agencia: \\t{conta['agencia']}\n",
        "            C/C: \\t\\t{conta['numero_conta']}\n",
        "            Titular: \\t{conta['usuario']['nome']}\n",
        "        \"\"\"\n",
        "        print(\"=\"*30)\n",
        "        print(linha)"
      ],
      "metadata": {
        "id": "5vVbOzh5MYv-"
      },
      "execution_count": 7,
      "outputs": []
    },
    {
      "cell_type": "markdown",
      "source": [
        "## Funcao da Quinta opcado do Menu do Sistema Bancario"
      ],
      "metadata": {
        "id": "xC4r42eIMpMe"
      }
    },
    {
      "cell_type": "code",
      "source": [
        "#OPCAO 6\n",
        "def criar_usuario(usuarios):\n",
        "    cpf = str(input(\"Por favor, informe o seu CPF (somente numeros): \"))\n",
        "    usuario = filtrar_usuario(cpf, usuarios)\n",
        "\n",
        "    if usuario:\n",
        "        print(\"\\n\\033[1;41mErro!\\033[m Ja existe um usuario cadastrado com esse CPF.\")\n",
        "        return\n",
        "\n",
        "    nome = input(\"Informe seu nome completo: \")\n",
        "    data_nascimento = input(\"Informe a data de nascimento (dd-mm-aaaa): \")\n",
        "    endereco = input(\"Informe o endereco (logradouro, numero - bairro - cidade/sigla estado): \")\n",
        "\n",
        "    usuarios.append({\"nome\": nome, \"cpf\": cpf, \"data_nacimento\": data_nascimento, \"endereco\": endereco})\n",
        "    print(\"\\n\\033[1;30;42m====USUARIO CRIADO COM SUCESSO====\\033[m\\n\")"
      ],
      "metadata": {
        "id": "BlD7W1T1MoFW"
      },
      "execution_count": 8,
      "outputs": []
    },
    {
      "cell_type": "markdown",
      "source": [
        "## Criacao da Funcao auxiliar para buscar CPF"
      ],
      "metadata": {
        "id": "Lc4OppsLM0lW"
      }
    },
    {
      "cell_type": "code",
      "source": [
        "def filtrar_usuario(cpf, usuarios):\n",
        "    usuarios_filtrados = [usuario for usuario in usuarios if usuario[\"cpf\"] == cpf]\n",
        "    return usuarios_filtrados[0] if usuarios_filtrados else None"
      ],
      "metadata": {
        "id": "uTGCwHNkMzrR"
      },
      "execution_count": 9,
      "outputs": []
    },
    {
      "cell_type": "markdown",
      "source": [
        "## Funcao Principal para funcionamento do Sistema Bancario"
      ],
      "metadata": {
        "id": "2b6OhnuKNE7A"
      }
    },
    {
      "cell_type": "code",
      "source": [
        "def main():\n",
        "    LIMITE_SAQUE = 3\n",
        "    AGENCIA = \"0001\"\n",
        "\n",
        "    saldo = 0\n",
        "    limite = 500\n",
        "    extrato = \"\"\n",
        "    numero_saques = 0\n",
        "    usuarios = []\n",
        "    contas = []\n",
        "\n",
        "    while True:\n",
        "        opcao = menu()\n",
        "\n",
        "        if opcao == 1: #Opcao 1 = DEPOSITAR\n",
        "            valor = float(input('Por favor, informe o valor do deposito: R$'))\n",
        "            saldo, extrato = depositar(saldo, valor, extrato)\n",
        "\n",
        "        elif opcao == 2: #Opcao 2 = SACAR\n",
        "            valor = float(input('Por favor, informe o valor do saque: R$'))\n",
        "            numero_saques += 1\n",
        "            saldo, extrato = sacar(\n",
        "                saldo=saldo,\n",
        "                valor=valor,\n",
        "                extrato=extrato,\n",
        "                limite=limite,\n",
        "                numero_saques=numero_saques,\n",
        "                limite_saques=LIMITE_SAQUE\n",
        "            )\n",
        "\n",
        "        elif opcao == 3: #Opcao 3 = Extrato\n",
        "            exibir_extrato(saldo, extrato=extrato)\n",
        "\n",
        "        elif opcao == 4: #Opcao 4 = Nova Conta\n",
        "            numero_conta = len(contas) + 1\n",
        "            conta = criar_conta(AGENCIA, numero_conta, usuarios)\n",
        "\n",
        "            if conta:\n",
        "                contas.append(conta)\n",
        "\n",
        "        elif opcao == 5: #Opcao 5 = Listar Contas\n",
        "            listar_contas(contas)\n",
        "\n",
        "        elif opcao == 6: #Opcao 6 = Criar Usuarios\n",
        "            criar_usuario(usuarios)\n",
        "\n",
        "        elif opcao == 999:\n",
        "            break\n",
        "\n",
        "        else:\n",
        "            print(\"\\n\\033[1;41mErro!\\033[m Informacao invalida.\")\n",
        "\n",
        "\n",
        "\n",
        "main()"
      ],
      "metadata": {
        "id": "xsE4fBJ7M-Vw"
      },
      "execution_count": null,
      "outputs": []
    }
  ]
}